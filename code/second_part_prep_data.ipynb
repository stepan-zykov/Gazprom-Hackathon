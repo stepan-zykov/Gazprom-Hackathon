{
 "cells": [
  {
   "cell_type": "code",
   "execution_count": 61,
   "metadata": {},
   "outputs": [],
   "source": [
    "import pandas as pd\n",
    "import numpy as np\n",
    "from sklearn.model_selection import train_test_split\n",
    "import torch\n",
    "from torch.utils.data import Dataset, DataLoader\n",
    "from torchvision import transforms\n",
    "import cv2\n",
    "import matplotlib.pyplot as plt\n",
    "import matplotlib.patches as patches\n",
    "from PIL import Image, ImageOps, ExifTags\n",
    "from typing import Optional, Tuple, List\n",
    "import matplotlib.patches as patches\n",
    "import json\n",
    "import os\n",
    "import shutil"
   ]
  },
  {
   "cell_type": "code",
   "execution_count": 95,
   "metadata": {},
   "outputs": [],
   "source": [
    "df2 = pd.read_csv('../data/VNIIGAZ_data/dataset_2/_annotations.csv')\n",
    "df3 = pd.read_csv('../data/VNIIGAZ_data/dataset_3/_annotations.csv')\n",
    "df4 = pd.read_csv('../data/VNIIGAZ_data/dataset_4/_annotations.csv')"
   ]
  },
  {
   "cell_type": "code",
   "execution_count": 96,
   "metadata": {},
   "outputs": [
    {
     "name": "stdout",
     "output_type": "stream",
     "text": [
      "3425\n",
      "6867\n",
      "30638\n",
      "40930\n"
     ]
    }
   ],
   "source": [
    "print(df2.shape[0])\n",
    "print(df3.shape[0])\n",
    "print(df4.shape[0])\n",
    "print(df2.shape[0]+df3.shape[0]+df4.shape[0])"
   ]
  },
  {
   "cell_type": "code",
   "execution_count": 97,
   "metadata": {},
   "outputs": [],
   "source": [
    "merged_df = pd.concat([df2, df3, df4], ignore_index=True)"
   ]
  },
  {
   "cell_type": "code",
   "execution_count": 98,
   "metadata": {},
   "outputs": [],
   "source": [
    "def convert_bbox_to_yolo_format(row):\n",
    "    x_min, y_min, x_max, y_max = row['xmin'], row['ymin'], row['xmax'], row['ymax']\n",
    "    x_center = (x_min + x_max) / 2 / row['width']\n",
    "    y_center = (y_min + y_max) / 2 / row['height']\n",
    "    width = (x_max - x_min) / row['width']\n",
    "    height = (y_max - y_min) / row['height']\n",
    "\n",
    "    return ' '.join(map(str, [x_center, y_center, width, height]))"
   ]
  },
  {
   "cell_type": "code",
   "execution_count": 99,
   "metadata": {},
   "outputs": [],
   "source": [
    "merged_df['location'] = merged_df.apply(lambda x: convert_bbox_to_yolo_format(x), axis=1)"
   ]
  },
  {
   "cell_type": "code",
   "execution_count": 100,
   "metadata": {},
   "outputs": [],
   "source": [
    "merged_df = merged_df[['filename', 'class', 'location']]"
   ]
  },
  {
   "cell_type": "code",
   "execution_count": 101,
   "metadata": {},
   "outputs": [],
   "source": [
    "unique_photos = merged_df['filename'].unique()"
   ]
  },
  {
   "cell_type": "code",
   "execution_count": 107,
   "metadata": {},
   "outputs": [
    {
     "name": "stdout",
     "output_type": "stream",
     "text": [
      "(5903,)\n",
      "(656,)\n"
     ]
    }
   ],
   "source": [
    "train_photos, val_photos = train_test_split(unique_photos, test_size=0.1, random_state=20)\n",
    "print(train_photos.shape)\n",
    "print(val_photos.shape)"
   ]
  },
  {
   "cell_type": "code",
   "execution_count": 111,
   "metadata": {},
   "outputs": [],
   "source": [
    "def move_photos_labels(df, photo_names, source_path, dest_path, stage):\n",
    "    for name in photo_names:\n",
    "        name_df = df[df['filename'] == name]\n",
    "        info = []\n",
    "        for _, (name, cls, location) in name_df.iterrows():\n",
    "            shutil.copy(os.path.join(source_path, name), os.path.join(dest_path, f'images/{stage}'))\n",
    "            info.append(f'{cls} {location}')\n",
    "        with open(os.path.join(dest_path, f'labels/{stage}/{name[:-4]}.txt'), 'a') as file:\n",
    "            file.write('\\n'.join(info))"
   ]
  },
  {
   "cell_type": "code",
   "execution_count": 112,
   "metadata": {},
   "outputs": [],
   "source": [
    "source_path = '../data/all_images_second_part'\n",
    "dest_path = '../data/second_part_data'"
   ]
  },
  {
   "cell_type": "code",
   "execution_count": 113,
   "metadata": {},
   "outputs": [],
   "source": [
    "move_photos_labels(merged_df, train_photos, source_path, dest_path, 'train')"
   ]
  },
  {
   "cell_type": "code",
   "execution_count": 114,
   "metadata": {},
   "outputs": [],
   "source": [
    "move_photos_labels(merged_df, val_photos, source_path, dest_path, 'val')"
   ]
  },
  {
   "cell_type": "code",
   "execution_count": null,
   "metadata": {},
   "outputs": [],
   "source": [
    "import files"
   ]
  }
 ],
 "metadata": {
  "kernelspec": {
   "display_name": "hac_venv",
   "language": "python",
   "name": "python3"
  },
  "language_info": {
   "codemirror_mode": {
    "name": "ipython",
    "version": 3
   },
   "file_extension": ".py",
   "mimetype": "text/x-python",
   "name": "python",
   "nbconvert_exporter": "python",
   "pygments_lexer": "ipython3",
   "version": "3.12.0"
  }
 },
 "nbformat": 4,
 "nbformat_minor": 2
}
